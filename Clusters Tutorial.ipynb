{
 "cells": [
  {
   "cell_type": "markdown",
   "id": "4e83c8a6",
   "metadata": {},
   "source": [
    "# DBSCAN"
   ]
  },
  {
   "cell_type": "markdown",
   "id": "49c19660",
   "metadata": {},
   "source": [
    "## Considerações"
   ]
  },
  {
   "cell_type": "markdown",
   "id": "13b08e65",
   "metadata": {},
   "source": [
    "`eps` - Raio da circunferência à volta de um ponto que representa a sua vizinhança"
   ]
  },
  {
   "cell_type": "markdown",
   "id": "de2b23e1",
   "metadata": {},
   "source": [
    "`MinPts` - Número mínimo de pontos que queremos ver na vizinhança de um ponto"
   ]
  },
  {
   "cell_type": "markdown",
   "id": "8d00c113",
   "metadata": {},
   "source": [
    "Ponto **core**\n",
    "- Número de vizinhos $\\ge$ MinPts"
   ]
  },
  {
   "cell_type": "markdown",
   "id": "db23ed7c",
   "metadata": {},
   "source": [
    "Ponto **boundary**\n",
    "- Número de vizinhos < MinPts\n",
    "- Deve estar na vizinhança de um ponto **core**"
   ]
  },
  {
   "cell_type": "markdown",
   "id": "8393884a",
   "metadata": {},
   "source": [
    "Ponto **noise**\n",
    "- Não é ponto **core** nem **boundary**"
   ]
  },
  {
   "cell_type": "markdown",
   "id": "7692cf81",
   "metadata": {},
   "source": [
    "Aresta de densidade - Une dois pontos **core** que sejam vizinhos"
   ]
  },
  {
   "cell_type": "markdown",
   "id": "c01f62b0",
   "metadata": {},
   "source": [
    "Pontos conectados por densidade - Diz-se que dois pontos **core** $p$ e $q$ estão conectados por densidade, caso estejam conectados através de arestas de densidade"
   ]
  },
  {
   "cell_type": "markdown",
   "id": "900f8a6d",
   "metadata": {},
   "source": [
    "## Algoritmo"
   ]
  },
  {
   "cell_type": "markdown",
   "id": "500c3d46",
   "metadata": {},
   "source": [
    "1. Classificar os pontos como **core**, **boundary** ou **noise**"
   ]
  },
  {
   "cell_type": "markdown",
   "id": "f62b5637",
   "metadata": {},
   "source": [
    "![Diagrama](files/dbscan1_core.png)"
   ]
  },
  {
   "cell_type": "markdown",
   "id": "7a79b8c8",
   "metadata": {},
   "source": [
    "![Diagrama](files/dbscan1_boundary.png)"
   ]
  },
  {
   "cell_type": "markdown",
   "id": "551599fd",
   "metadata": {},
   "source": [
    "![Diagrama](files/dbscan1_noise.png)"
   ]
  },
  {
   "cell_type": "markdown",
   "id": "be6077f5",
   "metadata": {},
   "source": [
    "2. Descartar os pontos **noise**"
   ]
  },
  {
   "cell_type": "markdown",
   "id": "126816c2",
   "metadata": {},
   "source": [
    "![Diagrama](files/dbscan2.png)"
   ]
  },
  {
   "cell_type": "markdown",
   "id": "ced85f81",
   "metadata": {},
   "source": [
    "3. Atribuir um cluster a um ponto **core**"
   ]
  },
  {
   "cell_type": "markdown",
   "id": "e17bf000",
   "metadata": {},
   "source": [
    "![Diagrama](files/dbscan3.png)"
   ]
  },
  {
   "cell_type": "markdown",
   "id": "23e558eb",
   "metadata": {},
   "source": [
    "4. Colorir todos os pontos conectados por densidade de um ponto **core**"
   ]
  },
  {
   "cell_type": "markdown",
   "id": "99328502",
   "metadata": {},
   "source": [
    "![Diagrama](files/dbscan4.png)"
   ]
  },
  {
   "cell_type": "markdown",
   "id": "2c5e28f8",
   "metadata": {},
   "source": [
    "5. Repetir os passos 3 e 4 para os restantes pontos **core**"
   ]
  },
  {
   "cell_type": "markdown",
   "id": "d563004a",
   "metadata": {},
   "source": [
    "![Diagrama](files/dbscan5.png)"
   ]
  },
  {
   "cell_type": "markdown",
   "id": "44fbb112",
   "metadata": {},
   "source": [
    "6. Colorir os pontos **boundary** de acordo com o ponto **core** mais próximo"
   ]
  },
  {
   "cell_type": "markdown",
   "id": "a8984df4",
   "metadata": {},
   "source": [
    "![Diagrama](files/dbscan6.png)"
   ]
  },
  {
   "cell_type": "markdown",
   "id": "3a6c7be9",
   "metadata": {},
   "source": [
    "## Implementação em Python"
   ]
  },
  {
   "cell_type": "markdown",
   "id": "10aaf84c",
   "metadata": {},
   "source": [
    "# KMeans"
   ]
  },
  {
   "cell_type": "markdown",
   "id": "322ff369",
   "metadata": {},
   "source": [
    "## Algoritmo"
   ]
  },
  {
   "cell_type": "markdown",
   "id": "84ee6896",
   "metadata": {},
   "source": [
    "1. Escolher o número de clusters $k$"
   ]
  },
  {
   "cell_type": "markdown",
   "id": "8aa06896",
   "metadata": {},
   "source": [
    "![Diagrama](files/kmeans1.png)"
   ]
  },
  {
   "cell_type": "markdown",
   "id": "083a9ced",
   "metadata": {},
   "source": [
    "2. Selecionar $k$ pontos aleatórios como centróides"
   ]
  },
  {
   "cell_type": "markdown",
   "id": "e3d65438",
   "metadata": {},
   "source": [
    "![Diagrama](files/kmeans2.png)"
   ]
  },
  {
   "cell_type": "markdown",
   "id": "1d40fb9e",
   "metadata": {},
   "source": [
    "3. Atribuir cada ponto ao cluster cujo centróide se encontra mais próximo"
   ]
  },
  {
   "cell_type": "markdown",
   "id": "92284094",
   "metadata": {},
   "source": [
    "![Diagrama](files/kmeans3.png)"
   ]
  },
  {
   "cell_type": "markdown",
   "id": "91f4467f",
   "metadata": {},
   "source": [
    "4. Calcular a média de cada cluster como o novo centróide"
   ]
  },
  {
   "cell_type": "markdown",
   "id": "ad5a4384",
   "metadata": {},
   "source": [
    "![Diagrama](files/kmeans4.png)"
   ]
  },
  {
   "cell_type": "markdown",
   "id": "164cdf36",
   "metadata": {},
   "source": [
    "5. Repetir passos 3 e 4"
   ]
  },
  {
   "cell_type": "markdown",
   "id": "1ffa40a0",
   "metadata": {},
   "source": [
    "![Diagrama](files/kmeans5.png)"
   ]
  },
  {
   "cell_type": "markdown",
   "id": "ff8ec801",
   "metadata": {},
   "source": [
    "![Diagrama](files/kmeans6.png)"
   ]
  }
 ],
 "metadata": {
  "kernelspec": {
   "display_name": "Python 3",
   "language": "python",
   "name": "python3"
  },
  "language_info": {
   "codemirror_mode": {
    "name": "ipython",
    "version": 3
   },
   "file_extension": ".py",
   "mimetype": "text/x-python",
   "name": "python",
   "nbconvert_exporter": "python",
   "pygments_lexer": "ipython3",
   "version": "3.8.8"
  }
 },
 "nbformat": 4,
 "nbformat_minor": 5
}
